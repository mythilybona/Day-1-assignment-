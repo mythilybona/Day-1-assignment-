{
  "nbformat": 4,
  "nbformat_minor": 0,
  "metadata": {
    "colab": {
      "provenance": [],
      "include_colab_link": true
    },
    "kernelspec": {
      "name": "python3",
      "display_name": "Python 3"
    },
    "language_info": {
      "name": "python"
    }
  },
  "cells": [
    {
      "cell_type": "markdown",
      "metadata": {
        "id": "view-in-github",
        "colab_type": "text"
      },
      "source": [
        "<a href=\"https://colab.research.google.com/github/mythilybona/Day-1-assignment-/blob/main/Day_2_Assignment.ipynb\" target=\"_parent\"><img src=\"https://colab.research.google.com/assets/colab-badge.svg\" alt=\"Open In Colab\"/></a>"
      ]
    },
    {
      "cell_type": "markdown",
      "source": [
        "## 1.Difference between the list and tuple?"
      ],
      "metadata": {
        "id": "HN6tCq60j2mQ"
      }
    },
    {
      "cell_type": "code",
      "source": [
        "Tuple=(1,2,3)\n",
        "List=[1,2,3]\n",
        "# modify the list data\n",
        "List[2]=4"
      ],
      "metadata": {
        "id": "Cw8ffkhMk6RQ"
      },
      "execution_count": null,
      "outputs": []
    },
    {
      "cell_type": "markdown",
      "source": [
        "Tuple is  immutable and it cannot change its value.\n",
        "List is mutable it can be modified."
      ],
      "metadata": {
        "id": "3XDvFu03ZpLA"
      }
    },
    {
      "cell_type": "markdown",
      "source": [
        "## 2.How list is different from an array"
      ],
      "metadata": {
        "id": "uWhJG7hzk6Ov"
      }
    },
    {
      "cell_type": "code",
      "source": [
        "List = [1,2,3,'hello',True]\n",
        "List.append(4)\n",
        "print(List)\n",
        "from array import array\n",
        "my_array=array('i',[1,2,3,4])\n",
        "my_array.append(5)\n",
        "print(my_array)"
      ],
      "metadata": {
        "id": "MowyCcINo4Mn",
        "colab": {
          "base_uri": "https://localhost:8080/"
        },
        "outputId": "8afdfbb2-b9a3-4a95-c963-5bb9eb91d352"
      },
      "execution_count": null,
      "outputs": [
        {
          "output_type": "stream",
          "name": "stdout",
          "text": [
            "[1, 2, 3, 'hello', True, 4]\n",
            "array('i', [1, 2, 3, 4, 5])\n"
          ]
        }
      ]
    },
    {
      "cell_type": "markdown",
      "source": [],
      "metadata": {
        "id": "1uPEIFbxmQwt"
      }
    },
    {
      "cell_type": "markdown",
      "source": [
        "## 3. Use the python list append(),copy(), clear, count, extends(), index(), insert(), pop(), reverse(), sort(), min(), max(),and sum()"
      ],
      "metadata": {
        "id": "_0Rn7JQSk6M1"
      }
    },
    {
      "cell_type": "code",
      "source": [
        "#list append\n",
        "List=[]\n",
        "List.append(10)\n",
        "List.append(30)\n",
        "List.append(50)\n",
        "print(List)\n",
        "#list copy\n",
        "List1=[4,5,6]\n",
        "List2=List1.copy()\n",
        "List1[0]=10\n",
        "print(\"List1:\",List1)\n",
        "print(\"List2:\",List2)\n",
        "#list clear\n",
        "List=[1,2,3,4]\n",
        "List.clear()\n",
        "print(List)\n",
        "#List count\n",
        "List=[1,2,3,4,5,6,6,6,6]\n",
        "Value=List.count(6)\n",
        "print(Value)\n",
        "#list extend\n",
        "List1=[0,1,2]\n",
        "List2=[3,4,5]\n",
        "List1.extend(List2)\n",
        "print(List1)\n",
        "#list insert\n",
        "List=[1,2,3,4,5]\n",
        "List.insert(2,10)\n",
        "print(List)\n",
        "#list pop\n",
        "List=[1,2,3,4,5,6]\n",
        "Popped_value=List.pop()\n",
        "print(Popped_value)\n",
        "#list reverse\n",
        "List=[1,2,3,4,5]\n",
        "List.reverse()\n",
        "print(List)\n",
        "#list sort\n",
        "List=[1,5,2,4,6,3]\n",
        "List.sort()\n",
        "print(List)\n",
        "#list min\n",
        "List=[1,5,2,4,6,3]\n",
        "Min_value=min(List)\n",
        "print(Value)\n",
        "#list max\n",
        "List=[5,2,8,1,3]\n",
        "max_value=max(List)\n",
        "print(max_value)\n",
        "#list sum\n",
        "List=[1,5,2,4,6,3]\n",
        "sum_value=sum(List)\n",
        "print(sum_value)"
      ],
      "metadata": {
        "colab": {
          "base_uri": "https://localhost:8080/"
        },
        "id": "Rf7zNATDdRab",
        "outputId": "9d2125d6-11bb-4507-ed60-896ff0a878a5"
      },
      "execution_count": null,
      "outputs": [
        {
          "output_type": "stream",
          "name": "stdout",
          "text": [
            "[10, 30, 50]\n",
            "List1: [10, 5, 6]\n",
            "List2: [4, 5, 6]\n",
            "[]\n",
            "4\n",
            "[0, 1, 2, 3, 4, 5]\n",
            "[1, 2, 10, 3, 4, 5]\n",
            "6\n",
            "[5, 4, 3, 2, 1]\n",
            "[1, 2, 3, 4, 5, 6]\n",
            "4\n",
            "8\n",
            "21\n"
          ]
        }
      ]
    },
    {
      "cell_type": "markdown",
      "source": [
        "## 4, How would you divide the list into two parts?"
      ],
      "metadata": {
        "id": "W9xfjUWak6J_"
      }
    },
    {
      "cell_type": "code",
      "source": [
        "List=[1,2,3,4,5,6,7,8,9,10]\n",
        "First_part=List[:len(List)//2]\n",
        "Second_part=List[len(List)//2:]\n",
        "print(\"First_part:\",First_part)\n",
        "print(\"Second_part:\",Second_part)"
      ],
      "metadata": {
        "id": "n40aSExidQBL",
        "colab": {
          "base_uri": "https://localhost:8080/"
        },
        "outputId": "244b5011-31a1-4739-ec8c-09d99b803470"
      },
      "execution_count": null,
      "outputs": [
        {
          "output_type": "stream",
          "name": "stdout",
          "text": [
            "First_part: [1, 2, 3, 4, 5]\n",
            "Second_part: [6, 7, 8, 9, 10]\n"
          ]
        }
      ]
    },
    {
      "cell_type": "markdown",
      "source": [
        "## 5. how to filter the multiple of 3 from a given list and them remove the odd number from the new filtered list.\n",
        "Eg A = [1,2,3,4,5,6,7,8,9,21,23,24]\n",
        "Filter_lsit = [3,6,9,21,24]\n",
        "output_list = [6,24]"
      ],
      "metadata": {
        "id": "Qb1mVGfnk6G5"
      }
    },
    {
      "cell_type": "code",
      "source": [
        "original_list = [1,2,3,4,5,6,7,8,9,10]\n",
        "multiple_of_3=[num for num in original_list if num % 3==0]\n",
        "filtered_list = [num for num in multiple_of_3 if num % 2==0]\n",
        "print(filtered_list)"
      ],
      "metadata": {
        "colab": {
          "base_uri": "https://localhost:8080/"
        },
        "id": "6aDbs7FrJVWa",
        "outputId": "212f2327-c8a6-4df5-efb3-4768a0779b23"
      },
      "execution_count": null,
      "outputs": [
        {
          "output_type": "stream",
          "name": "stdout",
          "text": [
            "[6]\n"
          ]
        }
      ]
    },
    {
      "cell_type": "markdown",
      "source": [
        "## 6. How you can access keys and values simultaneously and update its value"
      ],
      "metadata": {
        "id": "auhYyjixk6FD"
      }
    },
    {
      "cell_type": "code",
      "source": [],
      "metadata": {
        "id": "y0qN-uq7-kSw"
      },
      "execution_count": null,
      "outputs": []
    },
    {
      "cell_type": "markdown",
      "source": [
        "## 7. Write python program to join, merge, concatente the two dictionaries..\n"
      ],
      "metadata": {
        "id": "vV00n0awk5_G"
      }
    },
    {
      "cell_type": "code",
      "source": [
        "dict1= {'a':1,'b':2}\n",
        "dict2= {'c':3,'d':4}\n",
        "Merge= {**dict1,**dict2}\n",
        "print(\"Merge:\",Merge)\n",
        "Concatenated= dict1 | dict2\n",
        "print(\"Concatenated dictionary:\", Concatenated)"
      ],
      "metadata": {
        "colab": {
          "base_uri": "https://localhost:8080/"
        },
        "id": "LaGRAHOzu-rF",
        "outputId": "f1e58d23-abcb-4a45-cc5a-f4e622cfd5d4"
      },
      "execution_count": null,
      "outputs": [
        {
          "output_type": "stream",
          "name": "stdout",
          "text": [
            "Merge: {'a': 1, 'b': 2, 'c': 3, 'd': 4}\n",
            "Concatenated dictionary: {'a': 1, 'b': 2, 'c': 3, 'd': 4}\n"
          ]
        }
      ]
    },
    {
      "cell_type": "markdown",
      "source": [
        "## 8. How would you check a specific keys from the dictionary??\n"
      ],
      "metadata": {
        "id": "Z_7dpypWnQ-z"
      }
    },
    {
      "cell_type": "code",
      "source": [
        "Dict = {'apple':3,'banana':5,'cherry':2}\n",
        "Target_key = 'banana'\n",
        "if Target_key in Dict:\n",
        "    print(f\"the key'{Target_key}' exists in the dictionary.\")\n",
        "else:\n",
        "    print(f\"the key'{Target_key}' doesn't exists in the dictionary.\")"
      ],
      "metadata": {
        "colab": {
          "base_uri": "https://localhost:8080/"
        },
        "id": "mCtbVCqo7pUq",
        "outputId": "005ce12d-92fd-434b-ee3d-eb0138cb4b8e"
      },
      "execution_count": null,
      "outputs": [
        {
          "output_type": "stream",
          "name": "stdout",
          "text": [
            "the key'banana' exists in the dictionary.\n"
          ]
        }
      ]
    },
    {
      "cell_type": "markdown",
      "source": [
        "## 9. write a python program to find the unique vowel present in the sentence"
      ],
      "metadata": {
        "id": "EjxeB4ntnirH"
      }
    },
    {
      "cell_type": "code",
      "source": [
        "def find_unique_vowels(sentence):\n",
        "    Vowels = \"aeiouAEIOU\"\n",
        "    Unique_vowels = set()\n",
        "\n",
        "    for char in sentence:\n",
        "        if char in vowels:\n",
        "           unique_vowels.add(char)\n",
        "    return unique_vowels"
      ],
      "metadata": {
        "id": "BlwEvCjC84uf"
      },
      "execution_count": null,
      "outputs": []
    },
    {
      "cell_type": "markdown",
      "source": [
        "## 10. We know that tuple is immutable, do any thing and add element to the tuples."
      ],
      "metadata": {
        "id": "B1VBImcfns6V"
      }
    },
    {
      "cell_type": "code",
      "source": [
        "my_tuple = (1,2,3)\n",
        "new_elements = (4,5)\n",
        "new_tuple = my_tuple + new_elements\n",
        "print(\"original tuple:\",my_tuple)\n",
        "print(\"new tuple after adding elements:\",new_tuple)"
      ],
      "metadata": {
        "colab": {
          "base_uri": "https://localhost:8080/"
        },
        "id": "y3xm5twI-3IG",
        "outputId": "4d190213-c1e0-42e5-ddda-768080017f25"
      },
      "execution_count": null,
      "outputs": [
        {
          "output_type": "stream",
          "name": "stdout",
          "text": [
            "original tuple: (1, 2, 3)\n",
            "new tuple after adding elements: (1, 2, 3, 4, 5)\n"
          ]
        }
      ]
    },
    {
      "cell_type": "markdown",
      "source": [
        "## 11. How would you sum the list of tuple and sum of tuple of list\n",
        "list  = [(2,3),(4,5),(6,4)]\n",
        "output= [5,9,10]\n",
        "\n",
        "tuple  =([2,3],[4,5],[6,4])\n",
        "output  =  (5,9,10)"
      ],
      "metadata": {
        "id": "Yd7tDQHuoGFm"
      }
    },
    {
      "cell_type": "code",
      "source": [
        "#sum of list of tuples\n",
        "list_of_tuples = [(1,2),(3,4),(5,6)]\n",
        "sum_of_tuples = sum([sum(t) for t in list_of_tuples])\n",
        "print(sum_of_tuples)\n",
        "\n",
        "#sum of tuples in lists\n",
        "list_of_lists = [[1,2],[3,4],[5,6]]\n",
        "sum_of_tuples = tuple(map(sum,zip(*list_of_lists)))\n",
        "print(sum_of_tuples)"
      ],
      "metadata": {
        "colab": {
          "base_uri": "https://localhost:8080/"
        },
        "id": "MOwJGQ4VFwLz",
        "outputId": "789b7f33-d2f8-424b-cd3a-1ae34fa35d90"
      },
      "execution_count": null,
      "outputs": [
        {
          "output_type": "stream",
          "name": "stdout",
          "text": [
            "21\n",
            "(9, 12)\n"
          ]
        }
      ]
    },
    {
      "cell_type": "markdown",
      "source": [
        "## 12. FIND THE FREQUENCY OF THE KEYS IN THE GIVEN DICTIONARY"
      ],
      "metadata": {
        "id": "YiXg_vDpoq7X"
      }
    }
  ]
}